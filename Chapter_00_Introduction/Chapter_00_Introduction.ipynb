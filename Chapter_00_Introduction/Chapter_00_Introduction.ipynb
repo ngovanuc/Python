{
 "cells": [
  {
   "cell_type": "markdown",
   "id": "106e2e85",
   "metadata": {},
   "source": [
    "# CHAPTER 0: Introduction"
   ]
  },
  {
   "cell_type": "markdown",
   "id": "49f15060",
   "metadata": {},
   "source": [
    "# The Summary for Table of Contents"
   ]
  },
  {
   "cell_type": "markdown",
   "id": "a68219a5",
   "metadata": {},
   "source": [
    "📘 **Phần I. The Python Data Model (Mô hình dữ liệu Python)**\n",
    "\n",
    "* **Mục tiêu chính**: Giúp hiểu cách Python \"hiểu\" đối tượng thông qua các phương thức đặc biệt (`__dunder__ methods`), từ đó viết mã ngắn gọn, tự nhiên và \"Pythonic\".\n",
    "\n",
    "\n",
    "📘 **Phần II. Các Kiểu Dữ Liệu và Cấu Trúc**\n",
    "\n",
    "* **Tuple nâng cao**: unpacking lồng nhau, tuple bất biến, slicing và slice object.\n",
    "* **Danh sách (list)**: tạo danh sách lồng nhau, toán tử `+`, `*`, gán slice, `sort` và `sorted`.\n",
    "* **Hiệu suất danh sách**: dùng `bisect` để tìm và chèn; khi nào không nên dùng list.\n",
    "* **Các cấu trúc khác**: array, memoryview, NumPy, deque.\n",
    "\n",
    "\n",
    "📗 **Phần III. Hàm như Đối Tượng**\n",
    "\n",
    "* **Hàm bậc cao**: hàm như object, hàm vô danh (lambda), introspection, annotation.\n",
    "* **Pattern với hàm**: refactor chiến lược bằng cách dùng hàm.\n",
    "* **Decorators & closures**: từ cơ bản đến nâng cao, memoization, decorator có tham số.\n",
    "\n",
    "\n",
    "📙 **Phần IV. Lập Trình Hướng Đối Tượng**\n",
    "\n",
    "* **Tham chiếu và bất biến**: alias, shallow/deep copy, weakref, `__slots__`.\n",
    "* **Lớp Pythonic**: biểu diễn, phương thức đặc biệt, classmethod vs staticmethod.\n",
    "* **Sequence tùy biến**: viết class như list, slicing, hashing, format.\n",
    "* **Protocol và ABC**: hiểu protocol, subclass ABC, virtual subclass.\n",
    "* **Kế thừa**: đa kế thừa, mixin, composition, ví dụ với Django.\n",
    "* **Nạp chồng toán tử**: các toán tử cơ bản, so sánh, toán tử +=, \\*=,...\n",
    "\n",
    "\n",
    "📒 **Phần V. Luồng Điều Khiển**\n",
    "\n",
    "* **Iterator và Generator**: cách hoạt động, `yield`, generator expression.\n",
    "* **Context manager & else**: dùng `with`, `contextlib`, `else` trong vòng lặp.\n",
    "* **Coroutine**: coroutine từ generator, `yield from`, coroutine cho mô phỏng sự kiện.\n",
    "* **Concurrency**:\n",
    "\n",
    "  * **Futures**: `concurrent.futures`, xử lý tải về, đa tiến trình.\n",
    "  * **Asyncio**: `async/await`, aiohttp, server asyncio.\n",
    "\n",
    "\n",
    "📕 **Phần VI. Metaprogramming**\n",
    "\n",
    "* **Thuộc tính động**: `__getattr__`, `property`, kiểm soát truy cập động.\n",
    "* **Descriptors**: tự viết descriptor, overriding, methods là descriptor.\n",
    "* **Metaclass**: factory, decorator lớp, `__prepare__`, class là object."
   ]
  },
  {
   "cell_type": "markdown",
   "id": "632f8bc2",
   "metadata": {},
   "source": [
    "# Who This Book Is For"
   ]
  },
  {
   "cell_type": "markdown",
   "id": "8f92c014",
   "metadata": {},
   "source": [
    "📌 **Đối tượng đọc**: Lập trình viên đã biết Python, đặc biệt là muốn nâng trình với Python 3.4+.\n",
    "\n",
    "📌 **Về Python 2**:\n",
    "\n",
    "* Sách **không hướng đến Python 2**, nhưng phần lớn ví dụ vẫn chạy được.\n",
    "* Có nhấn mạnh các điểm mới trong Python 3 cho ai chuyển từ Python 2.\n",
    "\n",
    "📌 **Yêu cầu nền tảng**:\n",
    "\n",
    "* Giả định bạn đã nắm kiến thức cơ bản (như trong Python Tutorial).\n",
    "* Sách không nhắc lại kiến thức cũ, chỉ tập trung phần nâng cao và hiện đại.\n"
   ]
  },
  {
   "cell_type": "markdown",
   "id": "4770a358",
   "metadata": {},
   "source": [
    "# Who This Book Is Not For"
   ]
  },
  {
   "cell_type": "markdown",
   "id": "9e8c80e0",
   "metadata": {},
   "source": [
    "📌 **Cảnh báo cho người mới học Python**:\n",
    "\n",
    "* Sách **không phù hợp với người mới bắt đầu**.\n",
    "* Đọc quá sớm có thể khiến bạn hiểu sai rằng **mọi chương trình Python đều nên dùng special methods hay metaprogramming**.\n",
    "\n",
    "📌 **Lời khuyên chính**:\n",
    "\n",
    "* **Tránh trừu tượng hóa sớm** – cũng nguy hiểm như tối ưu hóa sớm."
   ]
  },
  {
   "cell_type": "markdown",
   "id": "b1f691be",
   "metadata": {},
   "source": [
    "# How This Book Is Organized"
   ]
  },
  {
   "cell_type": "markdown",
   "id": "583530fa",
   "metadata": {},
   "source": [
    "📘 **Cách đọc sách**\n",
    "\n",
    "* Bạn có thể đọc từng chương riêng lẻ, nhưng mỗi **phần nên đọc theo thứ tự**, vì nội dung liên kết.\n",
    "* Tác giả ưu tiên **dùng công cụ có sẵn** trước khi dạy cách **xây dựng công cụ riêng**, để tránh “tái phát minh bánh xe”.\n",
    "* Cách tiếp cận này giúp bạn hiểu sâu hơn trước khi học trừu tượng hóa (ABCs, metaclasses...).\n",
    "\n",
    "\n",
    "🧭 **Tóm tắt 6 phần chính của sách:**\n",
    "\n",
    "1. **Phần I – Python Data Model**\n",
    "   Giới thiệu `__special__ methods` (như `__repr__`, `__len__`) — nền tảng cho hành vi nhất quán của các object Python.\n",
    "\n",
    "2. **Phần II – Collections & Text**\n",
    "   Tập trung vào **sequence, mapping, set**, và sự khác biệt giữa `str` vs `bytes`. Bao gồm cả kiến thức nền lẫn chi tiết sâu như **hash table** và **Unicode sorting**.\n",
    "\n",
    "3. **Phần III – Hàm như Đối Tượng**\n",
    "   Giải thích function là “first-class object” và ứng dụng trong **decorator, closure, introspection, callable, nonlocal**,...\n",
    "\n",
    "4. **Phần IV – OOP nâng cao**\n",
    "   Nhiều ví dụ về **class, mutability, inheritance, ABCs, operator overloading**. Tập trung vào cách Python xử lý đối tượng.\n",
    "\n",
    "5. **Phần V – Luồng điều khiển nâng cao**\n",
    "   Bao gồm **generator, context manager, coroutine, concurrency**, đặc biệt là `yield from`, `asyncio`, và `concurrent.futures`.\n",
    "\n",
    "6. **Phần VI – Metaprogramming**\n",
    "   Từ `property`, `descriptor` đến **class decorators** và **metaclasses** – dùng để xử lý dữ liệu động (như JSON) và xây thư viện nâng cao."
   ]
  },
  {
   "cell_type": "markdown",
   "id": "11a1300f",
   "metadata": {},
   "source": [
    "# Hands-On Approach"
   ]
  },
  {
   "cell_type": "markdown",
   "id": "8f6f108d",
   "metadata": {},
   "source": [
    "🧪 **Tương tác và kiểm thử với Python console**\n",
    "\n",
    "* **Python console (REPL)** là công cụ học cực kỳ mạnh, đặc biệt hữu ích cho ai quen với ngôn ngữ biên dịch tĩnh.\n",
    "* Sách sử dụng **doctest** để kiểm thử hầu hết ví dụ — chúng **giống như phiên làm việc trong console**, nên bạn có thể dễ dàng thử lại.\n",
    "* Đôi khi, tác giả sẽ **viết test trước rồi mới đưa code** — đây là phương pháp **TDD** (Test-Driven Development).\n",
    "* Bạn không cần biết doctest để đọc sách, nhưng nếu tò mò, có thể chạy kiểm thử bằng:\n",
    "\n",
    "  ```bash\n",
    "  python3 -m doctest example_script.py\n",
    "  ```"
   ]
  },
  {
   "cell_type": "markdown",
   "id": "b2dff54a",
   "metadata": {},
   "source": [
    "# Hardware Used for Timings"
   ]
  },
  {
   "cell_type": "markdown",
   "id": "215a307d",
   "metadata": {},
   "source": [
    "# Soapbox: Author's Personal Perspective"
   ]
  },
  {
   "cell_type": "markdown",
   "id": "0d6b02f6",
   "metadata": {},
   "source": [
    "🗣️ **Soapbox – Góc nhìn cá nhân của tác giả**\n",
    "\n",
    "* Tác giả có nhiều năm kinh nghiệm với Python (từ 1998) và thích so sánh ngôn ngữ lập trình.\n",
    "* Một số chương có mục **“Soapbox”** – là phần chia sẻ quan điểm cá nhân.\n",
    "* **Không bắt buộc đọc**, bạn có thể **bỏ qua nếu không hứng thú** với thảo luận về triết lý ngôn ngữ."
   ]
  },
  {
   "cell_type": "markdown",
   "id": "813652d9",
   "metadata": {},
   "source": [
    "# Python Jargon"
   ]
  },
  {
   "cell_type": "markdown",
   "id": "47719e8e",
   "metadata": {},
   "source": [
    "# Python Version Covered"
   ]
  },
  {
   "cell_type": "markdown",
   "id": "921f5822",
   "metadata": {},
   "source": [
    "Python 3.4"
   ]
  },
  {
   "cell_type": "markdown",
   "id": "8fcc5d86",
   "metadata": {},
   "source": [
    "# Conventions Used in This Book"
   ]
  },
  {
   "cell_type": "markdown",
   "id": "0b27d8f5",
   "metadata": {},
   "source": [
    "- Tips hoặc Suggestion\n",
    "- General note\n",
    "- Warning or caution"
   ]
  },
  {
   "cell_type": "markdown",
   "id": "e8ca0582",
   "metadata": {},
   "source": [
    "# Using Code Examples"
   ]
  },
  {
   "cell_type": "markdown",
   "id": "ba04f43f",
   "metadata": {},
   "source": [
    "- https://github.com/fluentpython/example-code"
   ]
  },
  {
   "cell_type": "markdown",
   "id": "179d59c0",
   "metadata": {},
   "source": [
    "# Acknowledgments"
   ]
  }
 ],
 "metadata": {
  "language_info": {
   "name": "python"
  }
 },
 "nbformat": 4,
 "nbformat_minor": 5
}
