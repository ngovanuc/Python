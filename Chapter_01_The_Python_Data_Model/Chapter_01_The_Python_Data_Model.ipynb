{
 "cells": [
  {
   "cell_type": "markdown",
   "id": "241b308f",
   "metadata": {},
   "source": [
    "# CHAPTER 1: The Python Data Model"
   ]
  },
  {
   "cell_type": "markdown",
   "id": "44870510",
   "metadata": {},
   "source": [
    "# Introduction"
   ]
  },
  {
   "cell_type": "markdown",
   "id": "4244c1f7",
   "metadata": {},
   "source": [
    "1. Python có tính nhất quán cao (consistency)\n",
    "\n",
    "2. Sự khác biệt trong thiết kế cú pháp\n",
    "\n",
    "- Ví dụ: `len(collection)` thay vì `collection.len()` ban đầu có thể thấy lạ.\n",
    "- Đây là dấu hiệu cho thấy **Python ưu tiên cú pháp rõ ràng, đồng nhất**, và điều này đến từ **Data Model**.\n",
    "\n",
    "\n",
    "3. Python Data Model là gì?\n",
    "- Là **bộ quy tắc/hợp đồng** (API) để bạn khiến object của mình **tương tác trơn tru với cú pháp và tính năng của Python**\n",
    "- Nó giống như một **framework** mà bạn viết code theo những **phương thức đặc biệt** (`__dunder__ methods`) để tích hợp vào ngôn ngữ.\n",
    "\n",
    "\n",
    "4. Special Methods (Magic / Dunder Methods)\n",
    "- Tên bắt đầu và kết thúc bằng dấu `__` (ví dụ: `__getitem__`, `__str__`, `__len__`...).\n",
    "- Python sẽ **gọi các phương thức này khi bạn sử dụng các cú pháp quen thuộc**, ví dụ:\n",
    "\n",
    "  * `obj[key]` ⟶ gọi `obj.__getitem__(key)`\n",
    "  * `len(obj)` ⟶ gọi `obj.__len__()`\n",
    "\n",
    "\n",
    "5. Các tính năng bạn có thể hỗ trợ thông qua Data Model\n",
    "\n",
    "Bằng cách định nghĩa các dunder method, có thể khiến object của mình hỗ trợ:\n",
    "\n",
    "| Tính năng                        | Dunder method tiêu biểu                     |\n",
    "| -------------------------------- | ------------------------------------------- |\n",
    "| Iteration (duyệt)                | `__iter__`, `__next__`                      |\n",
    "| Collections (chỉ mục, độ dài...) | `__getitem__`, `__len__`, `__contains__`    |\n",
    "| Attribute access (thuộc tính)    | `__getattr__`, `__setattr__`, `__delattr__` |\n",
    "| Operator overloading (toán tử)   | `__add__`, `__eq__`, `__lt__`, etc.         |\n",
    "| Function & method call           | `__call__`                                  |\n",
    "| Object creation & destruction    | `__new__`, `__init__`, `__del__`            |\n",
    "| String representation            | `__str__`, `__repr__`                       |\n",
    "| Context manager (`with`)         | `__enter__`, `__exit__`                     |\n",
    "\n",
    "\n",
    "6. “Dunder” là gì?\n",
    "- “Dunder” = **double underscore**, ví dụ `__getitem__` = **dunder-getitem**\n",
    "- Đây là cách nói tắt phổ biến và thân thiện trong cộng đồng Python.\n",
    "\n",
    "\n",
    "Mini-review\n",
    "\n",
    "> **Câu hỏi:** Khi bạn viết `len(my_obj)`, điều gì thực sự xảy ra trong nền?\n",
    "\n",
    "> **Trả lời:** Python gọi `my_obj.__len__()` nếu phương thức đó được định nghĩa!\n"
   ]
  },
  {
   "cell_type": "markdown",
   "id": "3fec259a",
   "metadata": {},
   "source": [
    "# A Pythonic Card Deck"
   ]
  },
  {
   "cell_type": "markdown",
   "id": "9ea3d3fa",
   "metadata": {},
   "source": [
    "Một ví dụ đơn giản nhưng biểu hiện tác dụng to lớn của method `__getitem__` và `__len__`.\n",
    "\n",
    "Một đối tượng chứa 52 lá bài:"
   ]
  },
  {
   "cell_type": "code",
   "execution_count": 7,
   "id": "5a8bf3b5",
   "metadata": {},
   "outputs": [
    {
     "name": "stdout",
     "output_type": "stream",
     "text": [
      "Card(rank='7', suit='diamonds')\n",
      "Card(rank='2', suit='spades')\n",
      "Card(rank='A', suit='hearts')\n",
      "Card(rank='K', suit='spades')\n"
     ]
    }
   ],
   "source": [
    "import collections\n",
    "\n",
    "Card = collections.namedtuple('Card', ['rank', 'suit'])\n",
    "\n",
    "class FrenchDeck:\n",
    "    ranks = [str(n) for n in range(2, 11)] + list('JQKA')\n",
    "    suits = 'spades diamonds clubs hearts'.split()\n",
    "\n",
    "    def __init__(self):\n",
    "        self._cards = [\n",
    "            Card(rank, suit)\n",
    "            for suit in self.suits\n",
    "            for rank in self.ranks\n",
    "        ]\n",
    "\n",
    "    def __len__(self):\n",
    "        return len(self._cards)\n",
    "\n",
    "    def __getitem__(self, position):\n",
    "        return self._cards[position]\n",
    "\n",
    "\n",
    "beer_card = Card('7', 'diamonds')\n",
    "print(beer_card)\n",
    "\n",
    "\n",
    "# Nếu định nghĩa __len__ trong class thì có thể sử dụng len() để lấy số lượng phần tử\n",
    "deck = FrenchDeck()\n",
    "len(deck)\n",
    "\n",
    "\n",
    "# Nếu định nghĩa __getitem__ trong class thì có thể sử dụng [] để lấy phần tử\n",
    "print(deck[0])  # Lấy thẻ đầu tiên\n",
    "print(deck[-1])  # Lấy thẻ cuối cùng\n",
    "\n",
    "\n",
    "# Nếu muốn lấy ngẫu nhiên, Python đã có random.choice\n",
    "import random\n",
    "print(random.choice(deck))  # Lấy một thẻ ngẫu nhiên từ bộ bài"
   ]
  },
  {
   "cell_type": "markdown",
   "id": "bca8a966",
   "metadata": {},
   "source": [
    "# How Special Methods Are Used"
   ]
  },
  {
   "cell_type": "markdown",
   "id": "772915b0",
   "metadata": {},
   "source": [
    "🧠 **Cách dùng đúng các phương thức đặc biệt (special methods)**\n",
    "\n",
    "* **Không nên gọi trực tiếp** như `my_object.__len__()` — thay vào đó, dùng hàm dựng sẵn như `len(my_object)`.\n",
    "* Python gọi `__len__`, `__iter__`, `__str__`, v.v. **ngầm định** thông qua các câu lệnh như `for x in y`, `str(x)`, `len(x)`.\n",
    "* Với kiểu dữ liệu built-in, **CPython tối ưu hóa tốc độ** bằng cách bỏ qua lời gọi hàm và đọc trực tiếp từ cấu trúc C bên dưới.\n",
    "* Trừ khi làm **metaprogramming**, bạn nên **viết** các special method hơn là gọi chúng.\n",
    "* `__init__` là ngoại lệ thường được gọi trực tiếp khi dùng `super()`.\n",
    "* Tránh tạo **thuộc tính kiểu `__foo__` tùy ý**, vì chúng có thể được dùng bởi Python trong tương lai."
   ]
  },
  {
   "cell_type": "markdown",
   "id": "f66e6fe3",
   "metadata": {},
   "source": [
    "## Emulating Numeric Types"
   ]
  },
  {
   "cell_type": "markdown",
   "id": "7211ac9a",
   "metadata": {},
   "source": [
    "➕ **Mô phỏng kiểu số học với special methods**\n",
    "\n",
    "* Bạn có thể dùng **các phương thức đặc biệt** như `__add__`, `__mul__`, `__abs__`, `__repr__` để hỗ trợ **toán tử số học** trong lớp do người dùng định nghĩa.\n",
    "\n",
    "* Ví dụ: lớp `Vector` 2D dùng để:\n",
    "\n",
    "  * **Cộng vector** (`+`) → `v1 + v2` → `Vector(4, 5)`\n",
    "  * **Nhân với số** (`*`) → `v * 3` → `Vector(9, 12)`\n",
    "  * **Tính độ dài** (`abs(v)`) → dùng `__abs__`, như `abs(Vector(3, 4)) = 5.0`\n",
    "\n",
    "* Dù `complex` có thể dùng làm vector 2D, lớp `Vector` này **có thể mở rộng lên nhiều chiều (n-dimensional)** → sẽ tiếp tục ở Chương 14."
   ]
  },
  {
   "cell_type": "code",
   "execution_count": null,
   "id": "3857a5ed",
   "metadata": {},
   "outputs": [
    {
     "name": "stdout",
     "output_type": "stream",
     "text": [
      "Vector(3, 4)\n",
      "5.0\n",
      "Vector(4, 6)\n",
      "Vector(6, 8)\n"
     ]
    }
   ],
   "source": [
    "from math import hypot\n",
    "\n",
    "class Vector:\n",
    "    def __init__(self, x=0, y=0):\n",
    "        self.x = x\n",
    "        self.y = y\n",
    "    \n",
    "    def __repr__(self):\n",
    "        return f'Vector({self.x}, {self.y})'\n",
    "    \n",
    "    def __abs__(self):\n",
    "        return hypot(self.x, self.y)\n",
    "    \n",
    "    def __add__(self, other):\n",
    "        return bool(abs(self))\n",
    "    \n",
    "    def __add__(self, other):\n",
    "        x = self.x + other.x\n",
    "        y = self.y + other.y\n",
    "        return Vector(x, y)\n",
    "    \n",
    "    def __mul__(self, scalar):\n",
    "        return Vector(self.x * scalar, self.y * scalar)\n",
    "    \n",
    "\n",
    "X = Vector(3, 4)\n",
    "Y = Vector(1, 2)\n",
    "\n",
    "# Kiểm tra các special methods\n",
    "print(X)  # In ra Vector(3, 4)\n",
    "print(abs(X))  # In ra độ dài của vector X\n",
    "print(X + Y)  # In ra Vector(4, 6)\n",
    "# Nhân vector với một số\n",
    "print(X * 2)  # In ra Vector(6, 8)\n"
   ]
  },
  {
   "cell_type": "markdown",
   "id": "82ccbc44",
   "metadata": {},
   "source": [
    "📌 **Special methods thường được gọi ngầm định**\n",
    "\n",
    "* Dù lớp `Vector` cài đặt các phương thức như `__add__`, `__abs__`, `__repr__`, **chúng không được gọi trực tiếp** trong mã.\n",
    "* Python **tự động gọi** chúng khi ta dùng các hàm hoặc toán tử như `+`, `abs()`, `print()`,…\n",
    "* Phần tiếp theo sẽ **phân tích chi tiết từng phương thức** đã được dùng trong ví dụ."
   ]
  },
  {
   "cell_type": "markdown",
   "id": "d4e1b29e",
   "metadata": {},
   "source": [
    "## String Representation"
   ]
  },
  {
   "cell_type": "markdown",
   "id": "4580f401",
   "metadata": {},
   "source": [
    "🧾 `__repr__` vs `__str__`: Đại diện chuỗi của đối tượng\n",
    "\n",
    "* **`__repr__`**:\n",
    "\n",
    "  * Gọi bởi `repr()` → dùng trong **console, debugger, `%r`, hoặc `!r`** trong định dạng chuỗi.\n",
    "  * Mục tiêu: **rõ ràng, không mơ hồ**, có thể dùng để **tái tạo đối tượng** nếu được.\n",
    "  * Ví dụ: `Vector(3, 4)` → nên hiển thị đúng `Vector(3, 4)`.\n",
    "\n",
    "* **`__str__`**:\n",
    "\n",
    "  * Gọi bởi `str()` hoặc `print()` → dành cho **người dùng cuối**, dễ đọc hơn.\n",
    "\n",
    "* ✅ Nếu chỉ viết một hàm, hãy ưu tiên `__repr__`. Python sẽ dùng nó thay cho `__str__` nếu `__str__` không có.\n",
    "\n",
    "* Ngoài ra, khi định dạng chuỗi trong `__repr__`, dùng `%r` là thói quen tốt → hiển thị rõ kiểu giá trị (vd: `1` vs `'1'`)."
   ]
  },
  {
   "cell_type": "markdown",
   "id": "798a5609",
   "metadata": {},
   "source": [
    "## Arithmetic Operators"
   ]
  },
  {
   "cell_type": "markdown",
   "id": "8d2dac7c",
   "metadata": {},
   "source": [
    "✖️➕ **Toán tử `+` và `*` trong lớp `Vector`**\n",
    "\n",
    "* Lớp `Vector` cài đặt `__add__` và `__mul__` để hỗ trợ:\n",
    "\n",
    "  * **Cộng vector**: `v1 + v2`\n",
    "  * **Nhân vô hướng**: `v * 3`\n",
    "\n",
    "* Các phép toán này **không thay đổi đối tượng gốc**, mà tạo **đối tượng mới** → đúng với quy tắc của toán tử trung tố (infix operators).\n",
    "\n",
    "* **Lưu ý**:\n",
    "\n",
    "  * `Vector * number` hoạt động\n",
    "  * Nhưng `number * Vector` **không hoạt động** vì chưa có `__rmul__`.\n",
    "\n",
    "✅ Sẽ bổ sung `__rmul__` để xử lý **nhân theo hướng ngược** (commutative).\n"
   ]
  },
  {
   "cell_type": "markdown",
   "id": "41534fa6",
   "metadata": {},
   "source": [
    "## Boolean Value of a Custom Type"
   ]
  },
  {
   "cell_type": "markdown",
   "id": "1f025545",
   "metadata": {},
   "source": [
    "✅ **Kiểm tra tính đúng sai (truth value) với `__bool__`**\n",
    "\n",
    "* Python dùng `bool(x)` để xác định một đối tượng có \"truthy\" (đúng) hay \"falsy\" (sai).\n",
    "\n",
    "* Mặc định, **object tự định nghĩa luôn là `True`**, trừ khi bạn cài:\n",
    "\n",
    "  * `__bool__()` → ưu tiên gọi trước\n",
    "  * `__len__()` → gọi nếu không có `__bool__`, và trả về `False` nếu độ dài = 0\n",
    "\n",
    "* Với `Vector`, `__bool__` được định nghĩa là `False` nếu độ dài (magnitude) bằng 0.\n",
    "\n",
    "* **Tối ưu hiệu suất**:\n",
    "\n",
    "  ```python\n",
    "  def __bool__(self):\n",
    "      return bool(self.x or self.y)\n",
    "  ```\n",
    "\n",
    "  → Nhanh hơn vì tránh tính căn bậc hai, nhưng **khó đọc hơn**."
   ]
  },
  {
   "cell_type": "markdown",
   "id": "2fc69801",
   "metadata": {},
   "source": [
    "## Overview of Special Methods"
   ]
  },
  {
   "cell_type": "markdown",
   "id": "c64b205c",
   "metadata": {},
   "source": [
    "🧩 **Toàn cảnh về Special Methods trong Python**\n",
    "\n",
    "* Python có **83 special methods** (theo Python Language Reference).\n",
    "\n",
    "  * **47 trong số đó** dùng cho **toán tử** (số học, so sánh, bitwise,...)\n",
    "\n",
    "#### 🗂 **Bảng tổng quan (không bao gồm toán tử):**\n",
    "\n",
    "* **Biểu diễn chuỗi**: `__repr__`, `__str__`, `__format__`, `__bytes__`\n",
    "* **Chuyển kiểu số**: `__abs__`, `__bool__`, `__int__`, `__float__`, `__hash__`,...\n",
    "* **Mô phỏng collection**: `__len__`, `__getitem__`, `__setitem__`, `__contains__`\n",
    "* **Lặp**: `__iter__`, `__next__`, `__reversed__`\n",
    "* **Callable**: `__call__`\n",
    "* **Context manager**: `__enter__`, `__exit__`\n",
    "* **Quản lý đối tượng**: `__init__`, `__new__`, `__del__`\n",
    "* **Quản lý thuộc tính**: `__getattr__`, `__setattr__`, `__get__`,...\n",
    "\n",
    "#### ➕ **Các nhóm toán tử:**\n",
    "\n",
    "* **Số học**: `__add__`, `__sub__`, `__mul__`,...\n",
    "* **So sánh**: `__eq__`, `__lt__`, `__ge__`,...\n",
    "* **Đảo toán tử** (reversed): `__radd__`, `__rmul__`,...\n",
    "* **Toán tử gán cộng dồn**: `__iadd__`, `__imul__`,...\n",
    "* **Bitwise**: `__and__`, `__or__`, `__xor__`,...\n",
    "\n",
    "✅ Các toán tử đảo (`__r*__`) và toán tử gán (`__i*__`) sẽ được giải thích kỹ hơn ở **Chương 13**.\n"
   ]
  },
  {
   "cell_type": "markdown",
   "id": "7eaa55fe",
   "metadata": {},
   "source": [
    "## Why len Is Not a Method"
   ]
  },
  {
   "cell_type": "markdown",
   "id": "d6bdc57c",
   "metadata": {},
   "source": [
    "📏 **Vì sao `len(x)` không phải là `x.len()`?**\n",
    "\n",
    "* Lý do chính: **tính thực tiễn quan trọng hơn sự thuần nhất** (Zen of Python).\n",
    "* Với các kiểu built-in (như `list`, `str`), `len(x)` **rất nhanh** vì chỉ đọc trực tiếp một trường trong struct C — **không gọi method**.\n",
    "* Nhờ có `__len__`, bạn vẫn có thể làm `len()` hoạt động với **object tự định nghĩa** → đảm bảo tính **nhất quán của ngôn ngữ**.\n",
    "\n",
    "📌 So sánh thêm:\n",
    "\n",
    "* `len()` và `abs()` hoạt động như **toán tử một ngôi** (unary operator).\n",
    "* Trong ngôn ngữ ABC (tiền thân của Python), dùng `#s` thay cho `len(s)`."
   ]
  },
  {
   "cell_type": "markdown",
   "id": "c2d67662",
   "metadata": {},
   "source": [
    "# Chapter Summary"
   ]
  },
  {
   "cell_type": "markdown",
   "id": "07dae032",
   "metadata": {},
   "source": [
    "📚 **Tổng kết Chương 1 – Python Data Model**\n",
    "\n",
    "* **Special methods** giúp **object của bạn hành xử như kiểu built-in** → viết mã theo phong cách **Pythonic**.\n",
    "\n",
    "* Hai special method quan trọng đầu tiên:\n",
    "\n",
    "  * `__repr__`: dùng cho **debug**\n",
    "  * `__str__`: dùng để **hiển thị cho người dùng**\n",
    "\n",
    "* **Mô phỏng sequence** là một trong những ứng dụng phổ biến nhất của special methods → sẽ học sâu hơn ở:\n",
    "\n",
    "  * **Chương 2**: tận dụng các kiểu sequence có sẵn\n",
    "  * **Chương 10**: tự xây dựng sequence (Vector nhiều chiều)\n",
    "\n",
    "* Python hỗ trợ **nhiều toán tử số học**, kể cả **toán tử đảo chiều (`__r*__`) và gán tăng (`__i*__`)** → sẽ học ở **Chương 13**.\n",
    "\n",
    "* Các special method khác sẽ được giới thiệu dần **xuyên suốt cả sách**."
   ]
  },
  {
   "cell_type": "markdown",
   "id": "2358cdfe",
   "metadata": {},
   "source": [
    "# Further Reading"
   ]
  },
  {
   "cell_type": "markdown",
   "id": "059668fe",
   "metadata": {},
   "source": [
    "📚 **Tài liệu đọc thêm về Python Data Model**\n",
    "\n",
    "🔖 **Nguồn chính thống**\n",
    "\n",
    "* **“Data Model”** trong *Python Language Reference* là nguồn gốc chính.\n",
    "* Một số tài liệu kinh điển:\n",
    "\n",
    "  * *Python in a Nutshell* (Alex Martelli) – mô tả cơ chế truy cập thuộc tính rất chi tiết.\n",
    "  * *Python Essential Reference* & *Python Cookbook* (David Beazley) – tập trung vào Python 3.\n",
    "\n",
    "🧠 **Metaobject Protocol & Magic Methods**\n",
    "\n",
    "* Python gọi là **special methods**, Ruby gọi là **magic methods** — nhưng thật ra **không hề “ma thuật”**: người dùng có thể định nghĩa giống như core dev.\n",
    "* JavaScript có các hành vi **“magic thật”**, ví dụ: thuộc tính chỉ đọc không thể tạo thủ công (trước ES5.1).\n",
    "\n",
    "🧬 **Metaobject Protocol là gì?**\n",
    "\n",
    "* Là “API cho cấu trúc lõi của ngôn ngữ”.\n",
    "* Python và Ruby có **metaobject protocol mạnh mẽ** → cho phép mở rộng theo phong cách lập trình mới (như aspect-oriented).\n",
    "* Tác giả AMOP, **Gregor Kiczales**, cũng là cha đẻ của **AspectJ** (mở rộng Java theo hướng aspect-oriented).\n",
    "\n",
    "💬 **Soapbox nhỏ**\n",
    "\n",
    "* “Data model” và “Object model” thực ra là cùng một thứ.\n",
    "\n",
    "  * Python dùng từ “data model” trong tài liệu chính thức nên sách giữ theo cách gọi đó."
   ]
  }
 ],
 "metadata": {
  "kernelspec": {
   "display_name": ".venv",
   "language": "python",
   "name": "python3"
  },
  "language_info": {
   "codemirror_mode": {
    "name": "ipython",
    "version": 3
   },
   "file_extension": ".py",
   "mimetype": "text/x-python",
   "name": "python",
   "nbconvert_exporter": "python",
   "pygments_lexer": "ipython3",
   "version": "3.12.9"
  }
 },
 "nbformat": 4,
 "nbformat_minor": 5
}
